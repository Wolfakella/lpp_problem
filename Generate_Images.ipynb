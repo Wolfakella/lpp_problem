{
 "cells": [
  {
   "cell_type": "markdown",
   "id": "framed-portrait",
   "metadata": {},
   "source": [
    "## Скрипт генерации картинок"
   ]
  },
  {
   "cell_type": "markdown",
   "id": "excited-sheffield",
   "metadata": {},
   "source": [
    "Номер задачи для генерации прецедентов. Из папки `problems` будет взята папка с указанным номером, и дальнейшая работа будет проходить с задачей, размещенной в ней."
   ]
  },
  {
   "cell_type": "code",
   "execution_count": 1,
   "id": "ambient-broadcasting",
   "metadata": {},
   "outputs": [],
   "source": [
    "PROBLEM_ID = 1"
   ]
  },
  {
   "cell_type": "markdown",
   "id": "fewer-monitoring",
   "metadata": {},
   "source": [
    "Загрузим трассу вершин из файла `trace.txt` и для каждой вершины сформируем объект `Vertex`, состоящий из координат вершины и координат нормализованного вектора, указывающего на следующую вершину. Если вершина последняя в трассе, вектор ответа устанавливается нулевым."
   ]
  },
  {
   "cell_type": "code",
   "execution_count": 2,
   "id": "competitive-rehabilitation",
   "metadata": {},
   "outputs": [],
   "source": [
    "import Trace as tr\n",
    "import ProblemsFolder as pf\n",
    "\n",
    "folder = pf.ProblemsFolder()\n",
    "trace = tr.Trace(folder.traceFilename(PROBLEM_ID))"
   ]
  },
  {
   "cell_type": "markdown",
   "id": "educational-wheel",
   "metadata": {},
   "source": [
    "Загрузим сетчатку и задачу."
   ]
  },
  {
   "cell_type": "code",
   "execution_count": 3,
   "id": "heated-meditation",
   "metadata": {},
   "outputs": [
    {
     "name": "stdout",
     "output_type": "stream",
     "text": [
      "base.ret\n",
      "retina.ret\n"
     ]
    }
   ],
   "source": [
    "from Retina import Retina\n",
    "from Problem import Problem\n",
    "\n",
    "problem = Problem(folder.problemFilename(PROBLEM_ID))\n",
    "retina = Retina('config.ini')\n",
    "retina.loadFromFile(common=True)\n",
    "#retina.plot()\n",
    "#problem.plot()"
   ]
  },
  {
   "cell_type": "markdown",
   "id": "veterinary-distinction",
   "metadata": {},
   "source": [
    "Создадим ряд картинок, иллюстрирующий построение задачи."
   ]
  },
  {
   "cell_type": "code",
   "execution_count": 4,
   "id": "quantitative-allergy",
   "metadata": {},
   "outputs": [
    {
     "name": "stdout",
     "output_type": "stream",
     "text": [
      "Saved to C:\\Users\\Akella\\TrainingSetBuilder\\problems\\lpp_00001\\7.png\n",
      "Saved to C:\\Users\\Akella\\TrainingSetBuilder\\problems\\lpp_00001\\8.png\n",
      "Saved to C:\\Users\\Akella\\TrainingSetBuilder\\problems\\lpp_00001\\9.png\n",
      "Saved to C:\\Users\\Akella\\TrainingSetBuilder\\problems\\lpp_00001\\10.png\n",
      "Saved to C:\\Users\\Akella\\TrainingSetBuilder\\problems\\lpp_00001\\11.png\n",
      "Saved to C:\\Users\\Akella\\TrainingSetBuilder\\problems\\lpp_00001\\12.png\n"
     ]
    }
   ],
   "source": [
    "problem.savePlotSequence(folder.problemPath(PROBLEM_ID))"
   ]
  },
  {
   "cell_type": "markdown",
   "id": "convinced-colorado",
   "metadata": {},
   "source": [
    "Создадим ряд прецедентов для заданной задачи."
   ]
  },
  {
   "cell_type": "code",
   "execution_count": 5,
   "id": "champion-stroke",
   "metadata": {
    "scrolled": false
   },
   "outputs": [
    {
     "name": "stdout",
     "output_type": "stream",
     "text": [
      "Saved to C:\\Users\\Akella\\TrainingSetBuilder\\problems\\lpp_00001\\trace0.png\n",
      "Saved to C:\\Users\\Akella\\TrainingSetBuilder\\problems\\lpp_00001\\trace1.png\n",
      "Saved to C:\\Users\\Akella\\TrainingSetBuilder\\problems\\lpp_00001\\trace2.png\n"
     ]
    }
   ],
   "source": [
    "import os\n",
    "from Precedent import Precedent\n",
    "\n",
    "i = 0\n",
    "for item in trace:\n",
    "    precedent = Precedent(problem, retina, item)\n",
    "    precedent.plot(os.path.join(folder.problemPath(PROBLEM_ID), 'trace'+str(i)+'.png'))\n",
    "    i += 1"
   ]
  }
 ],
 "metadata": {
  "kernelspec": {
   "display_name": "Python 3",
   "language": "python",
   "name": "python3"
  },
  "language_info": {
   "codemirror_mode": {
    "name": "ipython",
    "version": 3
   },
   "file_extension": ".py",
   "mimetype": "text/x-python",
   "name": "python",
   "nbconvert_exporter": "python",
   "pygments_lexer": "ipython3",
   "version": "3.9.2"
  }
 },
 "nbformat": 4,
 "nbformat_minor": 5
}
