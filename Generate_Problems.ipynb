{
 "cells": [
  {
   "cell_type": "markdown",
   "id": "hazardous-castle",
   "metadata": {},
   "source": [
    "## Скрипт генерации случайных задач и решений\n",
    "*(с картинками)*"
   ]
  },
  {
   "cell_type": "markdown",
   "id": "metropolitan-print",
   "metadata": {},
   "source": [
    "Скрипт запускает `.exe`, который записывает пакет задач в `lpp.txt`. Поскольку это имя файла нам потребуется для дальнейшей обработки задач, все содержимое перемещается в `filename`."
   ]
  },
  {
   "cell_type": "code",
   "execution_count": 1,
   "id": "private-administration",
   "metadata": {},
   "outputs": [
    {
     "name": "stdout",
     "output_type": "stream",
     "text": [
      "-----------------------------------\n",
      "Task generation has started.\n",
      "-----------------------------------\n",
      "20 of LPP problems successfully written to the file lpp.txt\n",
      "\n"
     ]
    }
   ],
   "source": [
    "import ScriptGenerator as SG\n",
    "import os\n",
    "\n",
    "filename = os.path.join(os.getcwd(), 'packet.txt')\n",
    "\n",
    "packet = SG.ProblemsPacket(filename)"
   ]
  },
  {
   "cell_type": "markdown",
   "id": "aquatic-perry",
   "metadata": {},
   "source": [
    "Создаем папку, в которой будут размещаться отдельные задачи (*по умолчанию:* `problems`)"
   ]
  },
  {
   "cell_type": "code",
   "execution_count": 2,
   "id": "magnetic-shepherd",
   "metadata": {},
   "outputs": [
    {
     "name": "stdout",
     "output_type": "stream",
     "text": [
      "C:\\Users\\Akella\\TrainingSetBuilder\\problems\n",
      "C:\\Users\\Akella\\TrainingSetBuilder\\invalid\n"
     ]
    }
   ],
   "source": [
    "import ProblemsFolder as pf\n",
    "\n",
    "folder = pf.ProblemsFolder()\n",
    "folder.makeProblemsFolder()\n",
    "folder.makeInvalidFolder()"
   ]
  },
  {
   "cell_type": "markdown",
   "id": "variable-interstate",
   "metadata": {},
   "source": [
    "Задачи по одной достаются из пакета. Для каждой задачи запускается `.exe`, генерирующий решение (`trace.txt` и `solution.txt`). Далее запускается `.exe`-валидатор, и если он возвращает значение **1**, все файлы задачи перемещаются в специально созданную папку (*по умолчанию:* `lpp_######`)."
   ]
  },
  {
   "cell_type": "code",
   "execution_count": 3,
   "id": "seasonal-bronze",
   "metadata": {},
   "outputs": [
    {
     "name": "stdout",
     "output_type": "stream",
     "text": [
      "C:\\Users\\Akella\\TrainingSetBuilder\\invalid\\lpp_00000\n",
      "C:\\Users\\Akella\\TrainingSetBuilder\\problems\\lpp_00000\n",
      "C:\\Users\\Akella\\TrainingSetBuilder\\invalid\\lpp_00001\n",
      "C:\\Users\\Akella\\TrainingSetBuilder\\invalid\\lpp_00002\n",
      "C:\\Users\\Akella\\TrainingSetBuilder\\problems\\lpp_00001\n",
      "C:\\Users\\Akella\\TrainingSetBuilder\\invalid\\lpp_00003\n",
      "C:\\Users\\Akella\\TrainingSetBuilder\\problems\\lpp_00002\n",
      "C:\\Users\\Akella\\TrainingSetBuilder\\invalid\\lpp_00004\n",
      "C:\\Users\\Akella\\TrainingSetBuilder\\invalid\\lpp_00005\n",
      "C:\\Users\\Akella\\TrainingSetBuilder\\invalid\\lpp_00006\n",
      "C:\\Users\\Akella\\TrainingSetBuilder\\invalid\\lpp_00007\n",
      "C:\\Users\\Akella\\TrainingSetBuilder\\invalid\\lpp_00008\n",
      "C:\\Users\\Akella\\TrainingSetBuilder\\invalid\\lpp_00009\n",
      "C:\\Users\\Akella\\TrainingSetBuilder\\invalid\\lpp_00010\n",
      "C:\\Users\\Akella\\TrainingSetBuilder\\invalid\\lpp_00011\n",
      "C:\\Users\\Akella\\TrainingSetBuilder\\problems\\lpp_00003\n",
      "C:\\Users\\Akella\\TrainingSetBuilder\\invalid\\lpp_00012\n",
      "C:\\Users\\Akella\\TrainingSetBuilder\\invalid\\lpp_00013\n",
      "C:\\Users\\Akella\\TrainingSetBuilder\\invalid\\lpp_00014\n",
      "C:\\Users\\Akella\\TrainingSetBuilder\\invalid\\lpp_00015\n"
     ]
    }
   ],
   "source": [
    "for problem in packet:\n",
    "    output = SG.createSolution()\n",
    "    if SG.isValid():\n",
    "        print(folder.saveProblem())\n",
    "    else:\n",
    "        print(folder.saveInvalid())"
   ]
  }
 ],
 "metadata": {
  "kernelspec": {
   "display_name": "Python 3",
   "language": "python",
   "name": "python3"
  },
  "language_info": {
   "codemirror_mode": {
    "name": "ipython",
    "version": 3
   },
   "file_extension": ".py",
   "mimetype": "text/x-python",
   "name": "python",
   "nbconvert_exporter": "python",
   "pygments_lexer": "ipython3",
   "version": "3.9.2"
  }
 },
 "nbformat": 4,
 "nbformat_minor": 5
}
