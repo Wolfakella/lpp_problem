{
 "cells": [
  {
   "cell_type": "markdown",
   "id": "hazardous-castle",
   "metadata": {},
   "source": [
    "## Скрипт генерации случайных задач и решений\n",
    "*(с картинками)*"
   ]
  },
  {
   "cell_type": "markdown",
   "id": "metropolitan-print",
   "metadata": {},
   "source": [
    "Скрипт запускает `.exe`, который записывает пакет задач в `lpp.txt`. Поскольку это имя файла нам потребуется для дальнейшей обработки задач, все содержимое перемещается в `filename`."
   ]
  },
  {
   "cell_type": "code",
   "execution_count": 1,
   "id": "private-administration",
   "metadata": {},
   "outputs": [
    {
     "name": "stdout",
     "output_type": "stream",
     "text": [
      "-----------------------------------\n",
      "Task generation has started.\n",
      "-----------------------------------\n",
      "20 of LPP problems successfully written to the file lpp.txt\n",
      "\n"
     ]
    }
   ],
   "source": [
    "import ScriptGenerator as SG\n",
    "import os\n",
    "\n",
    "filename = os.path.join(os.getcwd(), 'packet.txt')\n",
    "\n",
    "packet = SG.ProblemsPacket(filename)"
   ]
  },
  {
   "cell_type": "markdown",
   "id": "aquatic-perry",
   "metadata": {},
   "source": [
    "Создаем папку, в которой будут размещаться отдельные задачи (*по умолчанию:* `problems`)"
   ]
  },
  {
   "cell_type": "code",
   "execution_count": 2,
   "id": "magnetic-shepherd",
   "metadata": {},
   "outputs": [
    {
     "name": "stdout",
     "output_type": "stream",
     "text": [
      "C:\\Users\\Akella\\TrainingSetBuilder\\problems\n"
     ]
    }
   ],
   "source": [
    "import ProblemsFolder as pf\n",
    "\n",
    "folder = pf.ProblemsFolder()\n",
    "folder.makeProblemsFolder()"
   ]
  },
  {
   "cell_type": "markdown",
   "id": "variable-interstate",
   "metadata": {},
   "source": [
    "Задачи по одной достаются из пакета. Для каждой задачи запускается `.exe`, генерирующий решение (`trace.txt` и `solution.txt`). Далее запускается `.exe`-валидатор, и если он возвращает значение **1**, все файлы задачи перемещаются в специально созданную папку (*по умолчанию:* `lpp_######`)."
   ]
  },
  {
   "cell_type": "code",
   "execution_count": 3,
   "id": "seasonal-bronze",
   "metadata": {},
   "outputs": [
    {
     "name": "stdout",
     "output_type": "stream",
     "text": [
      "C:\\Users\\Akella\\TrainingSetBuilder\\problems\\lpp_00000\n",
      "C:\\Users\\Akella\\TrainingSetBuilder\\problems\\lpp_00001\n",
      "C:\\Users\\Akella\\TrainingSetBuilder\\problems\\lpp_00002\n",
      "C:\\Users\\Akella\\TrainingSetBuilder\\problems\\lpp_00003\n"
     ]
    }
   ],
   "source": [
    "for problem in packet:\n",
    "    output = SG.createSolution()\n",
    "    if SG.isValid():\n",
    "        print(folder.saveProblem())"
   ]
  },
  {
   "cell_type": "markdown",
   "id": "velvet-jewel",
   "metadata": {},
   "source": [
    "Для каждой задачи формируется изображение области допустимых значений."
   ]
  },
  {
   "cell_type": "code",
   "execution_count": 4,
   "id": "sonic-fitness",
   "metadata": {},
   "outputs": [
    {
     "name": "stdout",
     "output_type": "stream",
     "text": [
      " |====================================================================================================| 100.0% \n"
     ]
    }
   ],
   "source": [
    "from Problem import Problem\n",
    "from lpp_tools import printProgressBar\n",
    "paths = folder.paths()\n",
    "\n",
    "total = len(paths)\n",
    "iteration = 0\n",
    "\n",
    "for path in paths:\n",
    "    filename = os.path.join(path, 'lpp.txt')\n",
    "    problem = Problem(filename)\n",
    "    filename = os.path.join(path, 'figure.png')\n",
    "    problem.plot(filename)\n",
    "    iteration += 1\n",
    "    printProgressBar(iteration, total)"
   ]
  }
 ],
 "metadata": {
  "kernelspec": {
   "display_name": "Python 3",
   "language": "python",
   "name": "python3"
  },
  "language_info": {
   "codemirror_mode": {
    "name": "ipython",
    "version": 3
   },
   "file_extension": ".py",
   "mimetype": "text/x-python",
   "name": "python",
   "nbconvert_exporter": "python",
   "pygments_lexer": "ipython3",
   "version": "3.9.2"
  }
 },
 "nbformat": 4,
 "nbformat_minor": 5
}
