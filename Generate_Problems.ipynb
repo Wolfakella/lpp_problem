{
 "cells": [
  {
   "cell_type": "markdown",
   "id": "hazardous-castle",
   "metadata": {},
   "source": [
    "## Скрипт генерации случайных задач и решений\n",
    "*(с картинками)*"
   ]
  },
  {
   "cell_type": "markdown",
   "id": "metropolitan-print",
   "metadata": {},
   "source": [
    "Скрипт запускает `.exe`, который записывает пакет задач в `lpp.txt`. Поскольку это имя файла нам потребуется для дальнейшей обработки задач, все содержимое перемещается в `filename`."
   ]
  },
  {
   "cell_type": "code",
   "execution_count": 1,
   "id": "private-administration",
   "metadata": {},
   "outputs": [
    {
     "name": "stdout",
     "output_type": "stream",
     "text": [
      "C:\\Users\\Akella\\lpp_problem-main\\packet.txt\n"
     ]
    }
   ],
   "source": [
    "import ScriptGenerator as SG\n",
    "import os\n",
    "\n",
    "filename = os.path.join(os.getcwd(), 'packet.txt')\n",
    "\n",
    "packet = SG.ProblemsPacket(filename, generate=False)"
   ]
  },
  {
   "cell_type": "markdown",
   "id": "aquatic-perry",
   "metadata": {},
   "source": [
    "Создаем папку, в которой будут размещаться отдельные задачи (*по умолчанию:* `problems`)"
   ]
  },
  {
   "cell_type": "code",
   "execution_count": 2,
   "id": "magnetic-shepherd",
   "metadata": {},
   "outputs": [
    {
     "name": "stdout",
     "output_type": "stream",
     "text": [
      "C:\\Users\\Akella\\lpp_problem-main\\problems\n",
      "C:\\Users\\Akella\\lpp_problem-main\\invalid\n"
     ]
    }
   ],
   "source": [
    "import ProblemsFolder as pf\n",
    "\n",
    "folder = pf.ProblemsFolder()\n",
    "folder.makeProblemsFolder()\n",
    "folder.makeInvalidFolder()"
   ]
  },
  {
   "cell_type": "markdown",
   "id": "variable-interstate",
   "metadata": {},
   "source": [
    "Задачи по одной достаются из пакета. Для каждой задачи запускается `.exe`, генерирующий решение (`trace.txt` и `solution.txt`). Далее запускается `.exe`-валидатор, и если он возвращает значение **1**, все файлы задачи перемещаются в специально созданную папку (*по умолчанию:* `lpp_######`)."
   ]
  },
  {
   "cell_type": "code",
   "execution_count": null,
   "id": "seasonal-bronze",
   "metadata": {},
   "outputs": [
    {
     "name": "stdout",
     "output_type": "stream",
     "text": [
      " |=========-------------------------------------------------------------------------------------------| 9.3% \r"
     ]
    }
   ],
   "source": [
    "from lpp_tools import printProgressBar\n",
    "\n",
    "for problem in packet:\n",
    "    output = SG.createSolution()\n",
    "    if output != \"Error!\":\n",
    "        if SG.isValid():\n",
    "            folder.saveProblem()\n",
    "        else:\n",
    "            folder.saveInvalid()\n",
    "    printProgressBar(packet.index, packet.N)"
   ]
  }
 ],
 "metadata": {
  "kernelspec": {
   "display_name": "Python 3",
   "language": "python",
   "name": "python3"
  },
  "language_info": {
   "codemirror_mode": {
    "name": "ipython",
    "version": 3
   },
   "file_extension": ".py",
   "mimetype": "text/x-python",
   "name": "python",
   "nbconvert_exporter": "python",
   "pygments_lexer": "ipython3",
   "version": "3.9.2"
  }
 },
 "nbformat": 4,
 "nbformat_minor": 5
}
