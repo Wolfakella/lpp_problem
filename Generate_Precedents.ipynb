{
 "cells": [
  {
   "cell_type": "markdown",
   "id": "mental-spyware",
   "metadata": {},
   "source": [
    "## Генерация массива прецедентов"
   ]
  },
  {
   "cell_type": "markdown",
   "id": "elegant-bhutan",
   "metadata": {},
   "source": [
    "Основные шаги:\n",
    "1. Открыть папку с задачами\n",
    "2. Для каждого пути в папке:\n",
    "    а) Считать задачу и трассировку\n",
    "    б) Для каждой вершины в трассе создать прецедент и записать его выход в файл\n",
    "    "
   ]
  },
  {
   "cell_type": "markdown",
   "id": "adjusted-valuation",
   "metadata": {},
   "source": [
    "Индекс задачи, с которой начнем генерацию прецедентов. Если по каким-то причинам процесс был ранее прерван, достаточно указать номер, с которого нужно продолжить. По умолчанию равен **0**, что означает: нужно сгенерировать новый пакет прецедентов для всех задач."
   ]
  },
  {
   "cell_type": "code",
   "execution_count": 1,
   "id": "changing-webmaster",
   "metadata": {},
   "outputs": [],
   "source": [
    "START_INDEX = 0"
   ]
  },
  {
   "cell_type": "markdown",
   "id": "united-citizenship",
   "metadata": {},
   "source": [
    "Считаем пути к задачам и выведем первые десять."
   ]
  },
  {
   "cell_type": "code",
   "execution_count": 2,
   "id": "disciplinary-phrase",
   "metadata": {},
   "outputs": [
    {
     "name": "stdout",
     "output_type": "stream",
     "text": [
      "['C:\\\\Users\\\\Akella\\\\TrainingSetBuilder\\\\problems\\\\lpp_48000', 'C:\\\\Users\\\\Akella\\\\TrainingSetBuilder\\\\problems\\\\lpp_48001', 'C:\\\\Users\\\\Akella\\\\TrainingSetBuilder\\\\problems\\\\lpp_48002', 'C:\\\\Users\\\\Akella\\\\TrainingSetBuilder\\\\problems\\\\lpp_48003', 'C:\\\\Users\\\\Akella\\\\TrainingSetBuilder\\\\problems\\\\lpp_48004', 'C:\\\\Users\\\\Akella\\\\TrainingSetBuilder\\\\problems\\\\lpp_48005', 'C:\\\\Users\\\\Akella\\\\TrainingSetBuilder\\\\problems\\\\lpp_48006', 'C:\\\\Users\\\\Akella\\\\TrainingSetBuilder\\\\problems\\\\lpp_48007', 'C:\\\\Users\\\\Akella\\\\TrainingSetBuilder\\\\problems\\\\lpp_48008', 'C:\\\\Users\\\\Akella\\\\TrainingSetBuilder\\\\problems\\\\lpp_48009']\n"
     ]
    }
   ],
   "source": [
    "from ProblemsFolder import ProblemsFolder\n",
    "\n",
    "folder = ProblemsFolder()\n",
    "paths = folder.paths()\n",
    "\n",
    "print(paths[48000:48010])"
   ]
  },
  {
   "cell_type": "markdown",
   "id": "annoying-width",
   "metadata": {},
   "source": [
    "Загрузим сетчатку."
   ]
  },
  {
   "cell_type": "code",
   "execution_count": 3,
   "id": "parliamentary-collector",
   "metadata": {},
   "outputs": [
    {
     "name": "stdout",
     "output_type": "stream",
     "text": [
      "base.ret\n",
      "retina.ret\n"
     ]
    }
   ],
   "source": [
    "from Retina import Retina\n",
    "\n",
    "retina = Retina('config.ini')\n",
    "retina.loadFromFile(common=True)"
   ]
  },
  {
   "cell_type": "markdown",
   "id": "clean-broadway",
   "metadata": {},
   "source": [
    "Создадим файл для записи прецедентов. Если генерация прецедентов начинается заново, то создаем новый файл. Иначе - открываем запись в конец файла."
   ]
  },
  {
   "cell_type": "code",
   "execution_count": 4,
   "id": "rising-scout",
   "metadata": {},
   "outputs": [],
   "source": [
    "if START_INDEX == 0:\n",
    "    global_fout = open('precedents.txt', 'w')\n",
    "else:\n",
    "    global_fout = open('precedents.txt', 'a')"
   ]
  },
  {
   "cell_type": "markdown",
   "id": "hydraulic-austin",
   "metadata": {},
   "source": [
    "Для каждого пути считаем задачу и трассировку. Для каждой вершины в трассе сгенерируем прецедент и запишем его вывод в глобальный и в локальный файлы."
   ]
  },
  {
   "cell_type": "code",
   "execution_count": null,
   "id": "monthly-tobacco",
   "metadata": {},
   "outputs": [
    {
     "name": "stdout",
     "output_type": "stream",
     "text": [
      " |=---------------------------------------------------------------------------------------------------| 2.0% \r"
     ]
    }
   ],
   "source": [
    "import os\n",
    "from Problem import Problem\n",
    "from Trace import Trace\n",
    "from Precedent import Precedent\n",
    "from lpp_tools import printProgressBar\n",
    "\n",
    "number_of_problems = len(paths)\n",
    "printProgressBar(START_INDEX, number_of_problems)\n",
    "for i in range(START_INDEX, number_of_problems):\n",
    "    problem = Problem(folder.problemFilename(i))\n",
    "    trace = Trace(folder.traceFilename(i))\n",
    "#    local_fout = open(os.path.join(paths[i], 'precedents.txt'), 'w')\n",
    "    j = 0\n",
    "    for vertex in trace:\n",
    "        precedent = Precedent(problem, retina, vertex)\n",
    "        data = precedent.getPrecedent()\n",
    "        if len(data) == len(retina.points)+3:\n",
    "            line = '\\t'.join([str(x) for x in data]) + '\\n'\n",
    "            global_fout.write(line)\n",
    "#            local_fout.write(line)\n",
    "        else:\n",
    "            print(\"Error! Problem: {0}, vertex: {1}\".format(i, j))\n",
    "        j += 1\n",
    "#    local_fout.close()\n",
    "    printProgressBar(i+1, number_of_problems)\n",
    "    "
   ]
  },
  {
   "cell_type": "markdown",
   "id": "compact-marine",
   "metadata": {},
   "source": [
    "Завершим все операции."
   ]
  },
  {
   "cell_type": "code",
   "execution_count": null,
   "id": "moderate-forth",
   "metadata": {},
   "outputs": [],
   "source": [
    "global_fout.close()"
   ]
  }
 ],
 "metadata": {
  "kernelspec": {
   "display_name": "Python 3",
   "language": "python",
   "name": "python3"
  },
  "language_info": {
   "codemirror_mode": {
    "name": "ipython",
    "version": 3
   },
   "file_extension": ".py",
   "mimetype": "text/x-python",
   "name": "python",
   "nbconvert_exporter": "python",
   "pygments_lexer": "ipython3",
   "version": "3.9.2"
  }
 },
 "nbformat": 4,
 "nbformat_minor": 5
}
